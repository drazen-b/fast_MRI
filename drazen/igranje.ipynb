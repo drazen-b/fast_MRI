{
 "cells": [
  {
   "cell_type": "code",
   "execution_count": 19,
   "metadata": {},
   "outputs": [],
   "source": [
    "import fastmri"
   ]
  },
  {
   "cell_type": "code",
   "execution_count": 22,
   "metadata": {},
   "outputs": [
    {
     "name": "stdout",
     "output_type": "stream",
     "text": [
      "Help on package fastmri.data in fastmri:\n",
      "\n",
      "NAME\n",
      "    fastmri.data - Copyright (c) Facebook, Inc. and its affiliates.\n",
      "\n",
      "DESCRIPTION\n",
      "    This source code is licensed under the MIT license found in the\n",
      "    LICENSE file in the root directory of this source tree.\n",
      "\n",
      "PACKAGE CONTENTS\n",
      "    mri_data\n",
      "    subsample\n",
      "    transforms\n",
      "    volume_sampler\n",
      "\n",
      "FILE\n",
      "    /home/dbertic/anaconda3/envs/fast-mri/lib/python3.8/site-packages/fastmri/data/__init__.py\n",
      "\n",
      "\n"
     ]
    }
   ],
   "source": [
    "help(fastmri.data)"
   ]
  },
  {
   "cell_type": "code",
   "execution_count": 23,
   "metadata": {},
   "outputs": [
    {
     "name": "stdout",
     "output_type": "stream",
     "text": [
      "Help on package fastmri.models in fastmri:\n",
      "\n",
      "NAME\n",
      "    fastmri.models - Copyright (c) Facebook, Inc. and its affiliates.\n",
      "\n",
      "DESCRIPTION\n",
      "    This source code is licensed under the MIT license found in the\n",
      "    LICENSE file in the root directory of this source tree.\n",
      "\n",
      "PACKAGE CONTENTS\n",
      "    adaptive_varnet\n",
      "    policy\n",
      "    unet\n",
      "    varnet\n",
      "\n",
      "FILE\n",
      "    /home/dbertic/anaconda3/envs/fast-mri/lib/python3.8/site-packages/fastmri/models/__init__.py\n",
      "\n",
      "\n"
     ]
    }
   ],
   "source": [
    "help(fastmri.models)"
   ]
  }
 ],
 "metadata": {
  "kernelspec": {
   "display_name": "fast-mri",
   "language": "python",
   "name": "python3"
  },
  "language_info": {
   "codemirror_mode": {
    "name": "ipython",
    "version": 3
   },
   "file_extension": ".py",
   "mimetype": "text/x-python",
   "name": "python",
   "nbconvert_exporter": "python",
   "pygments_lexer": "ipython3",
   "version": "3.8.15"
  },
  "orig_nbformat": 4
 },
 "nbformat": 4,
 "nbformat_minor": 2
}
